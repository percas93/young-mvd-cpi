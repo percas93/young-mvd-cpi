{
 "cells": [
  {
   "cell_type": "code",
   "execution_count": null,
   "id": "8d865039",
   "metadata": {},
   "outputs": [],
   "source": [
    "%pip install pandas\n",
    "%pip install pyreadstat\n",
    "%pip install sqlalchemy\n",
    "%pip install pymysql"
   ]
  },
  {
   "cell_type": "code",
   "execution_count": null,
   "id": "62efc3a3",
   "metadata": {},
   "outputs": [
    {
     "name": "stdout",
     "output_type": "stream",
     "text": [
      "Note: you may need to restart the kernel to use updated packages.\n"
     ]
    }
   ],
   "source": [
    "#pip freeze > requirementsDELETE.txt"
   ]
  },
  {
   "cell_type": "code",
   "execution_count": 6,
   "id": "87ceb765",
   "metadata": {},
   "outputs": [],
   "source": [
    "import pandas as pd\n",
    "import pyreadstat\n",
    "import sqlite3"
   ]
  },
  {
   "cell_type": "code",
   "execution_count": 4,
   "id": "a4cdc940",
   "metadata": {},
   "outputs": [],
   "source": [
    "df_gastos = pd.read_spss(\"../data/raw/ENGIH 2016 Base de Datos Gastos.sav\")\n",
    "df_hogares = pd.read_spss(\"../data/raw/ENGIH 2016 Base de Datos Hogares.sav\")\n",
    "df_personas = pd.read_spss(\"../data/raw/ENGIH 2016 Base de Datos Personas.sav\")\n",
    "df_estratos = pd.read_spss(\"../data/raw/ENGIH 2016 UPM y Estratos.sav\")"
   ]
  },
  {
   "cell_type": "code",
   "execution_count": 7,
   "id": "de9063a6",
   "metadata": {},
   "outputs": [],
   "source": [
    "connection = sqlite3.connect(\"enigh_db\")"
   ]
  },
  {
   "cell_type": "code",
   "execution_count": 9,
   "id": "86ffd39a",
   "metadata": {},
   "outputs": [
    {
     "data": {
      "text/plain": [
       "6889"
      ]
     },
     "execution_count": 9,
     "metadata": {},
     "output_type": "execute_result"
    }
   ],
   "source": [
    "df_gastos.to_sql('hogares', connection, if_exists='replace', index=False)\n",
    "df_hogares.to_sql('egresos', connection, if_exists='replace', index=False)\n",
    "df_personas.to_sql('ingresos', connection, if_exists='replace', index=False)\n",
    "df_estratos.to_sql('estratos', connection, if_exists='replace', index=False)"
   ]
  },
  {
   "cell_type": "code",
   "execution_count": 11,
   "id": "7359aba9",
   "metadata": {},
   "outputs": [
    {
     "name": "stdout",
     "output_type": "stream",
     "text": [
      "  DOMANIO  NUMERO DOMMES REGION DOMSEMANA DOMDEPARTAMENTO ARTICULOCODIGO  \\\n",
      "0    2017  1821.0     05     01        21              01       01111011   \n",
      "1    2017  1821.0     05     01        21              01       01111011   \n",
      "2    2017  1821.0     05     01        21              01       01111270   \n",
      "3    2017  1821.0     05     01        21              01       01111383   \n",
      "4    2017  1821.0     05     01        21              01       01111394   \n",
      "\n",
      "      DONDECODIGO                                         COMOCODIGO  \\\n",
      "0  ‘Supermercado’  ‘Tarjeta de débito, deb. bancario, deb. automá...   \n",
      "1  ‘Supermercado’                                          ‘Contado’   \n",
      "2  ‘Supermercado’  ‘Tarjeta de débito, deb. bancario, deb. automá...   \n",
      "3  ‘Supermercado’                                          ‘Contado’   \n",
      "4  ‘Supermercado’                                          ‘Contado’   \n",
      "\n",
      "  DESTINOCODIGO GASTOTIPO                            DIVISION  VALORCONT  \\\n",
      "0       ‘Hogar’       0.0  Alimentos y bebidas no alcoholicas       35.0   \n",
      "1       ‘Hogar’       0.0  Alimentos y bebidas no alcoholicas       45.0   \n",
      "2       ‘Hogar’       0.0  Alimentos y bebidas no alcoholicas       94.0   \n",
      "3       ‘Hogar’       0.0  Alimentos y bebidas no alcoholicas       85.0   \n",
      "4       ‘Hogar’       0.0  Alimentos y bebidas no alcoholicas       60.0   \n",
      "\n",
      "   VALORCONTM  CANTIDADCONVERTIDA  VL_IMPUTADO  VALORCONT_IMPUTADO  CALORIAS  \\\n",
      "0       150.5               330.0          0.0                 0.0     887.7   \n",
      "1       193.5               330.0          0.0                 0.0     887.7   \n",
      "2       404.2               200.0          0.0                 0.0     729.2   \n",
      "3       365.5               420.0          0.0                 0.0    1890.0   \n",
      "4       258.0               150.0          0.0                 0.0     700.2   \n",
      "\n",
      "    peso  \n",
      "0  142.0  \n",
      "1  142.0  \n",
      "2  142.0  \n",
      "3  142.0  \n",
      "4  142.0  \n"
     ]
    }
   ],
   "source": [
    "query = \"SELECT * FROM hogares LIMIT 5\"\n",
    "result = pd.read_sql_query(query, connection)\n",
    "print(result)"
   ]
  }
 ],
 "metadata": {
  "kernelspec": {
   "display_name": "Python 3",
   "language": "python",
   "name": "python3"
  },
  "language_info": {
   "codemirror_mode": {
    "name": "ipython",
    "version": 3
   },
   "file_extension": ".py",
   "mimetype": "text/x-python",
   "name": "python",
   "nbconvert_exporter": "python",
   "pygments_lexer": "ipython3",
   "version": "3.9.6"
  }
 },
 "nbformat": 4,
 "nbformat_minor": 5
}
